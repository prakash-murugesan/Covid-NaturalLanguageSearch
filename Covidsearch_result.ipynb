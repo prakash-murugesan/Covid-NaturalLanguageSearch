{
 "cells": [
  {
   "cell_type": "markdown",
   "metadata": {},
   "source": [
    "# Notebook for Inference\n",
    "\n"
   ]
  },
  {
   "cell_type": "code",
   "execution_count": 8,
   "metadata": {},
   "outputs": [],
   "source": [
    "# imports\n",
    "\n",
    "import pandas as pd\n",
    "import scipy.spatial\n",
    "import pickle as pkl\n",
    "\n",
    "from sentence_transformers import SentenceTransformer"
   ]
  },
  {
   "cell_type": "markdown",
   "metadata": {},
   "source": [
    "#### Read embeddings"
   ]
  },
  {
   "cell_type": "code",
   "execution_count": 9,
   "metadata": {},
   "outputs": [],
   "source": [
    "#Assuming the files in the same folder\n",
    "\n",
    "df_sentences = pd.read_csv(\"covid_sentences.csv\", index_col=0)\n",
    "df = pd.read_csv(\"covid_full_sentences.csv\", index_col=0)"
   ]
  },
  {
   "cell_type": "code",
   "execution_count": 11,
   "metadata": {},
   "outputs": [],
   "source": [
    "df_sentences = df_sentences[\"paper_id\"].to_dict()\n",
    "df_sentences_list = list(df_sentences.keys())\n",
    "\n",
    "#Convert everything to string and that's our sentence text corpus\n",
    "corpus = [str(d) for d in df_sentences_list]"
   ]
  },
  {
   "cell_type": "markdown",
   "metadata": {},
   "source": [
    "### Load BERT embeddings using SentenceTransformer"
   ]
  },
  {
   "cell_type": "code",
   "execution_count": 12,
   "metadata": {},
   "outputs": [],
   "source": [
    "# Load pickle file\n",
    "with open(\"corpus_embeddings_base_2.pkl\" , \"rb\") as file_:\n",
    "    corpus_embeddings = pkl.load(file_)"
   ]
  },
  {
   "cell_type": "code",
   "execution_count": 13,
   "metadata": {},
   "outputs": [],
   "source": [
    "embedder = SentenceTransformer('bert-base-nli-stsb-mean-tokens')\n"
   ]
  },
  {
   "cell_type": "code",
   "execution_count": 14,
   "metadata": {},
   "outputs": [
    {
     "name": "stderr",
     "output_type": "stream",
     "text": [
      "Batches: 100%|██████████| 1/1 [00:00<00:00,  7.35it/s]\n"
     ]
    }
   ],
   "source": [
    "### This is where the questions addressed by the user comes in. Built it for a list of questions \n",
    "\n",
    "# Using a typical query \n",
    "\n",
    "questions = ['Use of AI in real-time health care delivery to evaluate interventions, risk factors, and outcomes in a way that could not be done manually']\n",
    "\n",
    "\n",
    "question_embeddings = embedder.encode(questions, show_progress_bar = True)"
   ]
  },
  {
   "cell_type": "markdown",
   "metadata": {},
   "source": [
    "### Generated results"
   ]
  },
  {
   "cell_type": "code",
   "execution_count": 15,
   "metadata": {},
   "outputs": [
    {
     "name": "stdout",
     "output_type": "stream",
     "text": [
      "\n",
      " Displaying the top 5 closest set of sentences to the question:\n",
      "Use of AI in real-time health care delivery to evaluate interventions, risk factors, and outcomes in a way that could not be done manually\n",
      "\n",
      "\n",
      "\n",
      "Score:   (Score: 0.7080) \n",
      "\n",
      "Set of Sentences:   while augmented intelligence ai in healthcare has been widely cited as an important approach to aid in the detection of disease and making clinical diagnosis this recent outbreak emphasizes the need and opportunity to utilize ai to predict outbreaks while the use of expert epidemiologists and public health officials cannot be replaced ai can serve to compile rapidly evolving information to assist public health experts in complex decisionmaking aggregation of social media news media rapidly evolving health reports and other disparate data is a daunting task which ai is poised to overcome during prior outbreaks such as severe acute respiratory syndrome sars in china in 2003 little realtime data was available [5]  now there is an explosion of available data and the tools utilized presently must meet that and overcome the challenge of big data \n",
      "\n",
      "paper_id:   8b4a52e7b0b63c560fa7856df220f40ded79b10f \n",
      "\n",
      "Title:    The Role of Augmented Intelligence (AI) in<br>Detecting and Preventing the Spread of Novel Coronavirus \n",
      "\n",
      "Abstract:   nan \n",
      "\n",
      "Abstract_summary:   Not provided \n",
      "\n",
      "Score:   (Score: 0.6961) \n",
      "\n",
      "Set of Sentences:   the healthcare trends experimented by developed and developing countries define a relevant change for health systems an interesting contribution from the consideration of the enablers contributes to the understanding that the management of technology from an effective and consistent perspective dismisses the link of health technology exclusively with operational andor technician areas \n",
      "\n",
      "paper_id:   916d81f510b97b4344f521edbc196bca0257b7e7 \n",
      "\n",
      "Title:    Chapter 8 Improvement Healthcare Projects<br>Meeting Healthcare and Technology Challenges \n",
      "\n",
      "Abstract:   nan \n",
      "\n",
      "Abstract_summary:   Not provided \n",
      "\n",
      "Score:   (Score: 0.6923) \n",
      "\n",
      "Set of Sentences:   under the above aspect health decision policies might need a closest and greater attention to emerging technologies such as the iot cognitive computing advanced analytics and business intelligence 5g networks anticipatory and contextaware computing and advanced distributed data warehouse platforms visvizi lytras damiani  mathkour 2018  we believe that the key perspective would not be just the change of the technology infrastructure and social behavior but the proper handling of health data itself for health policies \n",
      "\n",
      "paper_id:   bb91814bdf50b5c074284df791f7a19f0859d5b8 \n",
      "\n",
      "Title:    Chapter 2 Syndromic surveillance using web<br>data: a systematic review \n",
      "\n",
      "Abstract:   nan \n",
      "\n",
      "Abstract_summary:   Not provided \n",
      "\n",
      "Score:   (Score: 0.6907) \n",
      "\n",
      "Set of Sentences:   challenges of processing big data using ai  current technology approaches despite the limitations mentioned above ai is beginning to make contributions for healthcare improvement using big data healthcare sets ai tools are tireless and they are scalable across thousands of computers too ai tools can be used to separate sets of data on an asneeded basis and multiple sets of ai tools can be deployed to identify either anomalous or simultaneous patterns and display them to human operators for interpretation and action \n",
      "\n",
      "paper_id:   c46c291bcfcea6caa515003e275093fe18e35acd \n",
      "\n",
      "Title:    Chapter 83 Artificial intelligence in medical<br>devices and clinical decision support systems \n",
      "\n",
      "Abstract:   nan \n",
      "\n",
      "Abstract_summary:   Not provided \n",
      "\n",
      "Score:   (Score: 0.6850) \n",
      "\n",
      "Set of Sentences:   conclusion several methods and approaches could be used in the healthcare arena time series is an analytical tool to study diseases and resources management at healthcare institutions the flexibility to follow up and recognize data patterns and provide explanations must not be neglected in studies of healthcare interventions in this study the arima model was introduced without the use of mathematical details or other extensions to the model the investigator or the healthcare organization involved in disease management programs could have great advantages when using analytical methodology in several areas with the ability to perform provisions in many cases despite the analytical possibility by statistical means this approach does not replace investigators common sense and experience in disease interventions \n",
      "\n",
      "paper_id:   1b8a085682d10dad4baf90417a8cbcde144cc8c9 \n",
      "\n",
      "Title:    Disease management with ARIMA model in time<br>series \n",
      "\n",
      "Abstract:   the evaluation of infectious and noninfectious disease management can be done through the use of a time series analysis in this study we expect to measure the results and prevent intervention effects on the disease clinical studies have benefited from the use of these techniques particularly for the wide applicability of the arima model this study briefly presents the process of using the arima model this analytical tool offers a great contribution for researchers and healthcare managers in the evaluation of healthcare interventions in specific populations \n",
      "\n",
      "Abstract_summary:    The evaluation of infectious and<br>noninfectious disease management can be done through the use<br>of a time series analysis. In this study, we expect<br>to measure the results and prevent intervention<br>effects on the disease. Clinical studies have<br>benefited from the use of these techniques, particularly<br>for the wide applicability of the ARIMA model. This<br>study briefly presents the process of using the ARIMA<br>model. This analytical tool offers a great<br>contribution for researchers and healthcare managers in the<br>evaluation of healthcare interventions in specific<br>populations. \n",
      "\n"
     ]
    }
   ],
   "source": [
    "### We find the top 5 sentences in terms of cosine similarity and display them along with the other metadata\n",
    "\n",
    "closest_n = 5\n",
    "print(\"\\n Displaying the top 5 closest set of sentences to the question:\")\n",
    "for question, question_embedding in zip(questions, question_embeddings):\n",
    "    \n",
    "    #cosine similarity\n",
    "    distances = scipy.spatial.distance.cdist([question_embedding], corpus_embeddings, \"cosine\")[0]\n",
    "\n",
    "    results = zip(range(len(distances)), distances)\n",
    "    results = sorted(results, key=lambda x:x[1])\n",
    "\n",
    "    print(question)\n",
    "    print(\"\\n\\n\")\n",
    "\n",
    "\n",
    "    for idx, distance in results[0:closest_n]:\n",
    "        \n",
    "        print(\"Score:  \", \"(Score: %.4f)\" % (1-distance), \"\\n\")\n",
    "        print(\"Set of Sentences:  \", corpus[idx].strip(), \"\\n\")\n",
    "\n",
    "        row_dict = df.loc[df.index==corpus[idx]].to_dict()\n",
    "        print(\"paper_id:  \", row_dict[\"paper_id\"][corpus[idx]], \"\\n\")\n",
    "        print(\"Title:  \", row_dict[\"title\"][corpus[idx]],\"\\n\")\n",
    "        print(\"Abstract:  \", row_dict[\"abstract\"][corpus[idx]], \"\\n\")\n",
    "        print(\"Abstract_summary:  \", row_dict[\"abstract_summary\"][corpus[idx]], \"\\n\")"
   ]
  },
  {
   "cell_type": "code",
   "execution_count": null,
   "metadata": {},
   "outputs": [],
   "source": []
  }
 ],
 "metadata": {
  "kernelspec": {
   "display_name": "Python 3",
   "language": "python",
   "name": "python3"
  },
  "language_info": {
   "codemirror_mode": {
    "name": "ipython",
    "version": 3
   },
   "file_extension": ".py",
   "mimetype": "text/x-python",
   "name": "python",
   "nbconvert_exporter": "python",
   "pygments_lexer": "ipython3",
   "version": "3.7.6"
  }
 },
 "nbformat": 4,
 "nbformat_minor": 4
}
